{
 "cells": [
  {
   "cell_type": "code",
   "execution_count": 1,
   "id": "3ef2c67e",
   "metadata": {},
   "outputs": [
    {
     "ename": "ModuleNotFoundError",
     "evalue": "No module named 'src'",
     "output_type": "error",
     "traceback": [
      "\u001b[0;31m---------------------------------------------------------------------------\u001b[0m",
      "\u001b[0;31mModuleNotFoundError\u001b[0m                       Traceback (most recent call last)",
      "\u001b[0;32m/var/folders/my/x6l_0x656cz77y2wdv8npcfc0000gn/T/ipykernel_3765/929330523.py\u001b[0m in \u001b[0;36m<module>\u001b[0;34m\u001b[0m\n\u001b[1;32m      1\u001b[0m \u001b[0;31m# Import necessary libraries\u001b[0m\u001b[0;34m\u001b[0m\u001b[0;34m\u001b[0m\u001b[0m\n\u001b[1;32m      2\u001b[0m \u001b[0;32mimport\u001b[0m \u001b[0mpandas\u001b[0m \u001b[0;32mas\u001b[0m \u001b[0mpd\u001b[0m\u001b[0;34m\u001b[0m\u001b[0;34m\u001b[0m\u001b[0m\n\u001b[0;32m----> 3\u001b[0;31m \u001b[0;32mfrom\u001b[0m \u001b[0msrc\u001b[0m\u001b[0;34m.\u001b[0m\u001b[0mdata_loader\u001b[0m \u001b[0;32mimport\u001b[0m \u001b[0mload_data\u001b[0m\u001b[0;34m\u001b[0m\u001b[0;34m\u001b[0m\u001b[0m\n\u001b[0m\u001b[1;32m      4\u001b[0m \u001b[0;32mfrom\u001b[0m \u001b[0msrc\u001b[0m\u001b[0;34m.\u001b[0m\u001b[0mexperiment\u001b[0m \u001b[0;32mimport\u001b[0m \u001b[0mABTest\u001b[0m\u001b[0;34m\u001b[0m\u001b[0;34m\u001b[0m\u001b[0m\n\u001b[1;32m      5\u001b[0m \u001b[0;32mfrom\u001b[0m \u001b[0msrc\u001b[0m\u001b[0;34m.\u001b[0m\u001b[0mutils\u001b[0m \u001b[0;32mimport\u001b[0m \u001b[0mplot_open_rates\u001b[0m\u001b[0;34m,\u001b[0m \u001b[0mplot_conversion_rates\u001b[0m\u001b[0;34m\u001b[0m\u001b[0;34m\u001b[0m\u001b[0m\n",
      "\u001b[0;31mModuleNotFoundError\u001b[0m: No module named 'src'"
     ]
    }
   ],
   "source": [
    "# Import necessary libraries\n",
    "import pandas as pd\n",
    "from src.data_loader import load_data\n",
    "from src.experiment import ABTest\n",
    "from src.utils import plot_open_rates, plot_conversion_rates\n",
    "\n",
    "# Load data\n",
    "subscribers, campaign_results = load_data('data/subscribers.csv', 'data/campaign_results.csv')\n",
    "data = pd.merge(subscribers, campaign_results, on='subscriber_id')\n",
    "\n",
    "# Perform A/B test\n",
    "ab_test = ABTest(data)\n",
    "group_size = len(data) // 2\n",
    "ab_test.assign_groups(group_size)\n",
    "results = ab_test.analyze_results()\n",
    "\n",
    "# Print results\n",
    "print(f\"Control group open rate: {results['control_open_rate']:.2%}\")\n",
    "print(f\"Treatment group open rate: {results['treatment_open_rate']:.2%}\")\n",
    "print(f\"Open rate p-value: {results['open_rate_pvalue']:.4f}\")\n",
    "\n",
    "print(f\"Control group conversion rate: {results['control_conv_rate']:.2%}\")  \n",
    "print(f\"Treatment group conversion rate: {results['treatment_conv_rate']:.2%}\")\n",
    "print(f\"Conversion rate p-value: {results['conv_rate_pvalue']:.4f}\")\n",
    "\n",
    "# Visualize results\n",
    "plot_open_rates(ab_test.control_group, ab_test.treatment_group, data)\n",
    "plot_conversion_rates(ab_test.control_group, ab_test.treatment_group, data)\n",
    "\n",
    "# Provide recommendations\n",
    "if results['open_rate_pvalue'] < 0.05 and results['treatment_open_rate'] > results['control_open_rate']:\n",
    "    print(\"Personalized subject lines significantly improve open rates. Implement this change.\")\n",
    "else:\n",
    "    print(\"No significant improvement in open rates. Consider other optimization strategies.\")\n",
    "    \n",
    "if results['conv_rate_pvalue'] < 0.05 and results['treatment_conv_rate'] > results['control_conv_rate']:\n",
    "    print(\"Personalized subject lines also lead to higher conversion rates. Great success!\")\n",
    "else:\n",
    "    print(\"Conversion rates did not improve significantly. Further testing may be needed.\")"
   ]
  },
  {
   "cell_type": "code",
   "execution_count": null,
   "id": "1d3befa2",
   "metadata": {},
   "outputs": [],
   "source": []
  }
 ],
 "metadata": {
  "kernelspec": {
   "display_name": "Python 3 (ipykernel)",
   "language": "python",
   "name": "python3"
  },
  "language_info": {
   "codemirror_mode": {
    "name": "ipython",
    "version": 3
   },
   "file_extension": ".py",
   "mimetype": "text/x-python",
   "name": "python",
   "nbconvert_exporter": "python",
   "pygments_lexer": "ipython3",
   "version": "3.9.9"
  }
 },
 "nbformat": 4,
 "nbformat_minor": 5
}
